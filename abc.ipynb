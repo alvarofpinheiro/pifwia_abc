from numpy.random import choice
from matplotlib.animation import FuncAnimation, PillowWriter

import matplotlib.pyplot as plt
import numpy as np
import random

#Atributos do ABC

n = 100
nf = int(n / 2)
limite = 10
cmax = 1000

#Definição da função objetivo

def custo(posicao): 
  return sum([coord ** 2 for coord in posicao])

def fitness(posicao):
  return 1 / abs(custo(posicao))

#Inicialização da colônia

exploradoras = []
trabalhadoras = []

for i in range(nf):
  exploradora = Exploradora()
  exploradora.posicao = [random.uniform(-5.12, 5.12), random.uniform(-5.12, 5.12)]
  exploradora.melhor_posicao = exploradora.posicao.copy()
  exploradoras.append(exploradora)
  
  trabalhadora = Trabalhadora()
  trabalhadoras.append(trabalhadora)

colonia = exploradoras + trabalhadoras

#Posições iniciais das exploradoras

plt.axis([-5.12, 5.12, -5.12, 5.12])
plt.plot(0,0, marker='o', markersize=10, color='b')

for i in range(nf):
    abelha = exploradoras[i]
    x, y = zip(abelha.posicao)
    plt.plot(x, y, marker='x', color='r')

plt.show()

#Escolha das fontes de alimento

def alocar_abelhas(abelhas):
  # faz a soma dos fitness das abelhas exploradoras
  soma_fitness = 0
  
  for i in range(nf):
    soma_fitness += fitness(exploradoras[i].posicao)

  # cria a distribuição de probabilidades de acordo com o fitness calculado
  distribuicao_probabilidade = []
  
  for i in range(nf):
    probabilidade_alocacao = fitness(exploradoras[i].posicao) / soma_fitness
    distribuicao_probabilidade.append(probabilidade_alocacao)
  
  # posiciona as oportunitas de acordo com a atratividade das exploradoras, "transformando-as" agora em trabalhadoras
  for abelha in abelhas:
    exploradora = choice(exploradoras, 1, p=distribuicao_probabilidade)[0]
    abelha.posicao = exploradora.posicao.copy()
    exploradora.trabalhadoras.append(abelha)

#Movimentação da abelha exploradora

def movimenta_abelha(abelha):
  colonia_candidata = colonia.copy()
  colonia_candidata.remove(abelha)
  abelha_candidata = random.choice(colonia_candidata)

  x = abelha.posicao[0] + random.uniform(-1, 1) * (abelha.posicao[0] - abelha_candidata.posicao[0])
  y = abelha.posicao[1] + random.uniform(-1, 1) * (abelha.posicao[1] - abelha_candidata.posicao[1])
  
  if x < -10:
    x = -10
  elif x > 10:
    x = 10

  if y < -10:
    y = -10
  elif y > 10:
    y = 10

  if fitness([x, y]) > fitness(abelha.posicao):
    abelha.posicao = [x, y]

#Otimização

from matplotlib.animation import FuncAnimation

melhor_posicao = None
ciclo = 0

# alocando as abelhas oportunistas como trabalhadoras em suas fontes
alocar_abelhas(trabalhadoras)

while ciclo < cmax:
  ciclo += 1

  for exploradora in exploradoras:
    # movimentando as trabalhadoras de cada fonte de comida
    for trabalhadora in exploradora.trabalhadoras:
      movimenta_abelha(trabalhadora)

    # obtem a melhor posição da iteração
    melhor_posicao_iter = None
    
    if len(exploradora.trabalhadoras) == 0:
      melhor_posicao_iter = exploradora.posicao

    for trabalhadora in exploradora.trabalhadoras:
      if melhor_posicao_iter is None or fitness(trabalhadora.posicao) > fitness(melhor_posicao_iter):
        melhor_posicao_iter = trabalhadora.posicao.copy()

    # atualiza posição atual da abelha exploradora
    if melhor_posicao_iter is not None and fitness(melhor_posicao_iter) > fitness(exploradora.posicao):
      exploradora.posicao = melhor_posicao_iter.copy()
      exploradora.ciclos_sem_melhora = 0
    else:
      exploradora.ciclos_sem_melhora += 1
    
    # desfaz a exploração da fonte de comida se necessário
    if exploradora.ciclos_sem_melhora >= limite:
      exploradora.posicao = [random.uniform(-10, 10), random.uniform(-10, 10)]
      exploradora.melhor_posicao = exploradora.posicao.copy()
      exploradora.ciclos_sem_melhora = 0
      trabalhadoras_desalocadas = exploradora.trabalhadoras
      exploradora.trabalhadoras = []
      alocar_abelhas(trabalhadoras_desalocadas)

    # atuaiza melhor posicao global
    if melhor_posicao is None or fitness(melhor_posicao_iter) > fitness(melhor_posicao):
      melhor_posicao = melhor_posicao_iter.copy()

  # mostrando no gráfico as posições atuais de cada abelha exploradora
  plt.axis([-10, 10, -10, 10])
  plt.plot(0,0, marker='o', markersize=10, color='b')

  for i in range(nf):
    exploradora = exploradoras[i]
    x, y = zip(exploradora.posicao)
    plt.plot(x, y, marker='x', color='k')
  
  plt.show()

#Resultado

print(str(melhor_posicao))