{
  "cells": [
    {
      "cell_type": "markdown",
      "metadata": {
        "id": "view-in-github",
        "colab_type": "text"
      },
      "source": [
        "<a href=\"https://colab.research.google.com/github/alvarofpinheiro/pifwia_abc/blob/main/PIFWIA_ABC.ipynb\" target=\"_parent\"><img src=\"https://colab.research.google.com/assets/colab-badge.svg\" alt=\"Open In Colab\"/></a>"
      ]
    },
    {
      "cell_type": "markdown",
      "source": [
        "ABC - Artificial Bee Colony ou Colônia Artificial de Abelhas é uma metaheurística proposta pelo pesquisador Derviş Karaboğa em 2005 para resolver problemas de otimização inspirado no comportamento do forrageamento inteligente das abelhas, buscando melhorar a solução candidata em relação a um objetivo.\n",
        "\n",
        "Karaboga, D. An Idea Based on Honey Bee Swarm for Numerical Optimization Artificial Intelligence Research at the University of Bologna. http://citeseerx.ist.psu.edu/viewdoc/summary?doi=10.1.1.714.4934, 2005."
      ],
      "metadata": {
        "id": "Zjs7A8pwQi_A"
      }
    },
    {
      "cell_type": "code",
      "source": [
        "#instala biblioteca Orange Canvas\n",
        "!pip install Orange3"
      ],
      "metadata": {
        "id": "pbhVeIyzqGCs"
      },
      "execution_count": null,
      "outputs": []
    },
    {
      "cell_type": "code",
      "source": [
        "#importa bibliotecas\n",
        "import random\n",
        "import matplotlib.pyplot as plt\n",
        "from matplotlib.animation import FuncAnimation, PillowWriter\n",
        "import numpy as np\n",
        "from numpy.random import choice\n",
        "from sklearn import metrics\n",
        "import Orange"
      ],
      "metadata": {
        "id": "_EhA6b2SQ73M"
      },
      "execution_count": null,
      "outputs": []
    },
    {
      "cell_type": "code",
      "source": [
        "#define os hiperparâmetros\n",
        "DIMENSOES = 2 #determina a quantidade de dimensões do problema\n",
        "ITERACOES = 200 #quantiddade máxima de ciclos defindo quantas explorações serão feitas (episódios)\n",
        "ENXAME = 40 #tamanho da população correspondente ao número de abelhas na colônia\n",
        "FONTES_ALIMENTACAO = int(ENXAME/2) #(nf) número de fontes de alimento que a colônia irá explorar (i.e., qtde de abelhas exploradoras) que é a metade da qtde de abelhas trabalhadoras\n",
        "E1 = -15 #extremo esquerdo eixo x\n",
        "E2 = 15 #extremo direito eixo x\n",
        "E3 = -100 #extremo inferior eixo y\n",
        "E4 = 100 #extremo superior eixo y\n",
        "LIMITES = [E3,E4] #(bound) determina os valores maximos e minimos do espaço de busca (área de busca de fontes de alimentação)\n",
        "CICLOS = 10 #(limite) qtde de ciclos sem melhora na exploração de uma fonte de alimento utilizado para abandonar essa exploração e buscar outras fontes aleatoriamente\n",
        "FCUSTO = 'rosenbrock' #(fitness) função custo que pode ser uma esfera ou parábola (rosenbrock) ou outra função custo que defina a densidade de alimentação das abelhas na área de busca\n",
        "ABELHAS = [] #(swarm) array da criação das abelhas"
      ],
      "metadata": {
        "id": "F5uDOSxFRUzG"
      },
      "execution_count": null,
      "outputs": []
    },
    {
      "cell_type": "code",
      "source": [
        "#importa dados\n",
        "from google.colab import files  \n",
        "files.upload()"
      ],
      "metadata": {
        "id": "8UOiPFS7lDnu"
      },
      "execution_count": null,
      "outputs": []
    },
    {
      "cell_type": "code",
      "source": [
        "#instancia objeto de dados com base no caminho gerado na importação do arquivo\n",
        "dados = Orange.data.Table(\"/content/dados.csv\")"
      ],
      "metadata": {
        "id": "FZyvVVQglNfP"
      },
      "execution_count": null,
      "outputs": []
    },
    {
      "cell_type": "code",
      "source": [
        "#explora os metadados e dados da arquivo importado\n",
        "qtde_campos = len(dados.domain.attributes)\n",
        "qtde_cont = sum(1 for a in dados.domain.attributes if a.is_continuous)\n",
        "qtde_disc = sum(1 for a in dados.domain.attributes if a.is_discrete)\n",
        "print(\"%d metadados: %d continuos, %d discretos\" % (qtde_campos, qtde_cont, qtde_disc))\n",
        "print(\"Nome dos metadados:\", \", \".join(dados.domain.attributes[i].name for i in range(qtde_campos)),)\n",
        "dados.domain.attributes #explora os domínios dos atributos (campos da base de dados)\n",
        "print(\"Qtde de Registros:\", len(dados)) #explora os dados (quantidade de registros da base de dados)\n",
        "i = 0 #exibe os primeiros registros para análise dos dados importados\n",
        "for d in dados[:20]:\n",
        "  i += 1\n",
        "  print(i, d)"
      ],
      "metadata": {
        "id": "c99uYx4wlbxj"
      },
      "execution_count": null,
      "outputs": []
    },
    {
      "cell_type": "code",
      "source": [
        "#cria arrays das dimensões do problema a ser otimizado\n",
        "periodo = []\n",
        "complexidade = [] #1-muito baixa complexidade;2-baixa complexidade;3-média complexidade;4-alta complexidade;e,5-muito alta complexidade\n",
        "pagina = []\n",
        "prazo = []\n",
        "revisao = []\n",
        "entrega = []\n",
        "i = 0\n",
        "for d in dados[:ENXAME]:\n",
        "  periodo.append(d[1])\n",
        "  complexidade.append(d[2])\n",
        "  pagina.append(d[3])\n",
        "  prazo.append(d[4])\n",
        "  revisao.append(d[5])\n",
        "  entrega.append(d[6])\n",
        "  print(\"id:\",i,\"período:\",periodo[i],\"complexidade:\",complexidade[i],\"página:\",pagina[i],\"prazo:\",prazo[i],\"revisões:\",revisao[i],\"entrega:\",entrega[i])\n",
        "  i += 1"
      ],
      "metadata": {
        "id": "l1Uge3CYlUgG"
      },
      "execution_count": null,
      "outputs": []
    },
    {
      "cell_type": "code",
      "source": [
        "#abelha - unidade base da otimização, posicionada numa determinada posição no espaço de busca do problema, representando uma solução em potencial para o problema\n",
        "class Exploradora: #(exploration) responsáveis por sair da colméia em busca de uma fonte de alimento para que de posse da informação da qualidade da fonte (fitness) retornam para repassar a informação\n",
        "  def __init__(self):\n",
        "        self.posicao = None\n",
        "        self.trabalhadoras = []\n",
        "        self.ciclos_sem_melhora = 0\n",
        "class Trabalhadora: #(exploitation) escolhem uma fonte de alimento para explorar de acordo com seu fitness, sendo as responsáveis por explorar a vizinhança de uma fonte de alimento\n",
        "  def __init__(self):\n",
        "        self.posicao = None"
      ],
      "metadata": {
        "id": "5e2PweiBbt8u"
      },
      "execution_count": null,
      "outputs": []
    },
    {
      "cell_type": "code",
      "source": [
        "#função custo ou objetivo ou aptidão ou otimização ou fitness - usada para buscar o melhor ponto dentro de um espaço de buscao (melhor global) sem ficar preso em um melhor local\n",
        "def fitness(problema, posicoes, alfa=0, beta=0):\n",
        "  total = 0.0\n",
        "  if problema == 'rosenbrock':\n",
        "    for i in range(DIMENSOES-1):\n",
        "      total += 100*(posicoes[i+1] - posicoes[i]**2)**2 + (1-posicoes[i])**2\n",
        "  elif problema == 'esfera':\n",
        "    for i in range(DIMENSOES):\n",
        "      total += posicoes[i]**2\n",
        "  elif problema == 'custo':\n",
        "    for i in range(DIMENSOES-1):\n",
        "      total += 1 / abs(sum([coord ** 2 for coord in posicoes]))\n",
        "  elif problema == 'rota':\n",
        "    denominador = sum([(caminho.feromonio)**alfa * (1 / caminho.comprimento)**beta for caminho in posicoes])\n",
        "    distribuicao_probabilidades = None\n",
        "    if denominador == 0:\n",
        "      distribuicao_probabilidades = [1 / len(posicoes)  for _ in posicoes]\n",
        "    else:\n",
        "      distribuicao_probabilidades = [((caminho.feromonio)**alfa * (1 / caminho.comprimento)**beta) / denominador for caminho in posicoes]\n",
        "    total = choice(posicoes, 1, p=distribuicao_probabilidades)[0]\n",
        "  else:\n",
        "    print('Problema não encontrado!')\n",
        "  return total"
      ],
      "metadata": {
        "id": "kiPyzwmNeXY6"
      },
      "execution_count": null,
      "outputs": []
    },
    {
      "cell_type": "code",
      "source": [
        "#inicializa população (enxame)\n",
        "exploradoras = []\n",
        "trabalhadoras = []\n",
        "for i in range(FONTES_ALIMENTACAO):\n",
        "  cpx = complexidade[i]\n",
        "  pag = pagina[i]\n",
        "  exploradora = Exploradora()\n",
        "  exploradora.posicao = [cpx,pag] #[random.uniform(E1,E2), random.uniform(E1,E2)]\n",
        "  exploradora.melhor_posicao = exploradora.posicao.copy()\n",
        "  exploradoras.append(exploradora)\n",
        "  trabalhadora = Trabalhadora()\n",
        "  trabalhadoras.append(trabalhadora)\n",
        "ABELHAS = exploradoras + trabalhadoras\n",
        "#leitura das posições\n",
        "for i in range(FONTES_ALIMENTACAO):\n",
        "  print(\"i:\",i)\n",
        "  print(list(ABELHAS[i].posicao))\n",
        "  print(list(ABELHAS[i].melhor_posicao))"
      ],
      "metadata": {
        "id": "YA-sqHDKb4xI"
      },
      "execution_count": null,
      "outputs": []
    },
    {
      "cell_type": "code",
      "source": [
        "#posiciona as abelhas exploradoras no espaço de busca\n",
        "print(\"Plano Cartesiano\")\n",
        "plt.axis([E1,E2,E3,E4])\n",
        "plt.plot(0,0, marker='*', markersize=15, color='b')\n",
        "for i in range(FONTES_ALIMENTACAO):\n",
        "    abelha = exploradoras[i]\n",
        "    #variáveis das DIMENSÕES do problema\n",
        "    d1,d2 = zip(abelha.posicao)\n",
        "    plt.plot(d1,d2, marker='o')\n",
        "plt.show()"
      ],
      "metadata": {
        "id": "RdYa1jNQhxVb"
      },
      "execution_count": null,
      "outputs": []
    },
    {
      "cell_type": "code",
      "source": [
        "#calcula escolha das fontes de alimento\n",
        "def alocar_abelhas(abelhas):\n",
        "  #faz a soma dos fitness das abelhas exploradoras\n",
        "  soma_fitness = 0\n",
        "  for i in range(FONTES_ALIMENTACAO):\n",
        "    soma_fitness += fitness(FCUSTO, exploradoras[i].posicao)\n",
        "  #cria a distribuição de probabilidades de acordo com o fitness calculado\n",
        "  distribuicao_probabilidade = []\n",
        "  for i in range(FONTES_ALIMENTACAO):\n",
        "    probabilidade_alocacao = fitness(FCUSTO, exploradoras[i].posicao) / soma_fitness\n",
        "    distribuicao_probabilidade.append(probabilidade_alocacao)\n",
        "  #posiciona as oportunitas de acordo com a atratividade das exploradoras, \"transformando-as\" agora em trabalhadoras\n",
        "  for abelha in abelhas:\n",
        "    exploradora = choice(exploradoras, 1, p=distribuicao_probabilidade)[0]\n",
        "    abelha.posicao = exploradora.posicao.copy()\n",
        "    exploradora.trabalhadoras.append(abelha)"
      ],
      "metadata": {
        "id": "-aRVGTZjjwZD"
      },
      "execution_count": null,
      "outputs": []
    },
    {
      "cell_type": "code",
      "source": [
        "#calcula movimento da abelha exploradora\n",
        "def movimenta_abelha(abelha):\n",
        "  colonia_candidata = ABELHAS.copy()\n",
        "  colonia_candidata.remove(abelha)\n",
        "  abelha_candidata = random.choice(colonia_candidata)\n",
        "  x = abelha.posicao[0] + random.uniform(-1, 1) * (abelha.posicao[0] - abelha_candidata.posicao[0])\n",
        "  y = abelha.posicao[1] + random.uniform(-1, 1) * (abelha.posicao[1] - abelha_candidata.posicao[1])\n",
        "  if x < -10:\n",
        "    x = -10\n",
        "  elif x > 10:\n",
        "    x = 10\n",
        "  if y < -10:\n",
        "    y = -10\n",
        "  elif y > 10:\n",
        "    y = 10\n",
        "  if fitness(FCUSTO, [x, y]) > fitness(FCUSTO, abelha.posicao):\n",
        "    abelha.posicao = [x, y]"
      ],
      "metadata": {
        "id": "B9AX9xAnj0Sx"
      },
      "execution_count": null,
      "outputs": []
    },
    {
      "cell_type": "code",
      "source": [
        "#otimiza as posições\n",
        "melhor_posicao = None\n",
        "ciclo = 0\n",
        "#alocando as abelhas oportunistas como trabalhadoras em suas fontes\n",
        "alocar_abelhas(trabalhadoras)\n",
        "lista_melhores_valores = []\n",
        "while ciclo < ITERACOES:\n",
        "  print(\"Iteração: {:.0f}\".format(ciclo+1))\n",
        "  ciclo += 1\n",
        "  for exploradora in exploradoras:\n",
        "    #movimentando as trabalhadoras de cada fonte de comida\n",
        "    for trabalhadora in exploradora.trabalhadoras:\n",
        "      movimenta_abelha(trabalhadora)\n",
        "    #obtem a melhor posição da iteração\n",
        "    melhor_posicao_iter = None\n",
        "    if len(exploradora.trabalhadoras) == 0:\n",
        "      melhor_posicao_iter = exploradora.posicao\n",
        "    for trabalhadora in exploradora.trabalhadoras:\n",
        "      if melhor_posicao_iter is None or fitness(FCUSTO, trabalhadora.posicao) > fitness(FCUSTO, melhor_posicao_iter):\n",
        "        melhor_posicao_iter = trabalhadora.posicao.copy()\n",
        "    #atualiza posição atual da abelha exploradora\n",
        "    if melhor_posicao_iter is not None and fitness(FCUSTO, melhor_posicao_iter) > fitness(FCUSTO, exploradora.posicao):\n",
        "      exploradora.posicao = melhor_posicao_iter.copy()\n",
        "      exploradora.ciclos_sem_melhora = 0\n",
        "    else:\n",
        "      exploradora.ciclos_sem_melhora += 1\n",
        "    #desfaz a exploração da fonte de comida se necessário\n",
        "    if exploradora.ciclos_sem_melhora >= CICLOS:\n",
        "      exploradora.posicao = [random.uniform(-10, 10), random.uniform(-10, 10)]\n",
        "      exploradora.melhor_posicao = exploradora.posicao.copy()\n",
        "      exploradora.ciclos_sem_melhora = 0\n",
        "      trabalhadoras_desalocadas = exploradora.trabalhadoras\n",
        "      exploradora.trabalhadoras = []\n",
        "      alocar_abelhas(trabalhadoras_desalocadas)\n",
        "    #atuaiza melhor posicao global\n",
        "    if melhor_posicao is None or fitness(FCUSTO, melhor_posicao_iter) > fitness(FCUSTO, melhor_posicao):\n",
        "      melhor_posicao = melhor_posicao_iter.copy()\n",
        "    lista_melhores_valores.append(melhor_posicao)\n",
        "  plt.axis([E1,E2,E3,E4])\n",
        "  plt.plot(0,0, marker='*', markersize=10, color='b')\n",
        "  #exibe o enxame - mostrando no gráfico as posições atuais de cada abelha exploradora\n",
        "  for i in range(FONTES_ALIMENTACAO):\n",
        "    exploradora = exploradoras[i]\n",
        "    d1,d2 = zip(exploradora.posicao)\n",
        "    plt.plot(d1,d2, marker='o')\n",
        "  #plt.plot(melhor_posicao[0], marker='x', markersize=15, color='r') #ponto gbest\n",
        "  plt.show()\n",
        "  print(\"Melhor Ponto: \", melhor_posicao)\n",
        "  print(\"\")"
      ],
      "metadata": {
        "id": "3prL486ySNcQ"
      },
      "execution_count": null,
      "outputs": []
    },
    {
      "cell_type": "code",
      "execution_count": null,
      "metadata": {
        "id": "0P6tBY50QOHR"
      },
      "outputs": [],
      "source": [
        "#exibe das posições e otimizações calculadas\n",
        "x = []\n",
        "y = []\n",
        "for i in range(len(lista_melhores_valores)):\n",
        "  x.append(i)\n",
        "  y.append(lista_melhores_valores[i])\n",
        "plt.plot(x, y)\n",
        "plt.title(\"Curva de Convergência do ABC\")\n",
        "plt.xlabel(\"Tempo\")\n",
        "plt.ylabel(\"Ciclos\")\n",
        "plt.tight_layout()"
      ]
    },
    {
      "cell_type": "code",
      "source": [
        "#leitura das posições e otimização\n",
        "posicao_inicial = []\n",
        "posicao_otimizada = []\n",
        "for i in range(ENXAME):\n",
        "  posicao_inicial.append(ABELHAS[i].posicao)\n",
        "  posicao_otimizada.append(lista_melhores_valores[i])\n",
        "  print(\"i:\",i,\"posição:\",posicao_inicial[i],\"otimização:\",posicao_otimizada[i])\n",
        "#y = []\n",
        "#ỹ = []\n",
        "#for i in range(ENXAME):\n",
        "#  y.append(int(posicao_inicial[i][0]))\n",
        "#  ỹ.append(int(posicao_otimizada[i][0]))\n",
        "#print('A:', metrics.accuracy_score(y,ỹ))\n",
        "#print('P:', metrics.precision_score(y,ỹ,average='macro'))\n",
        "#print('R:', metrics.recall_score(y,ỹ,average='macro'))\n",
        "#print('F:', metrics.f1_score(y,ỹ,average='macro'))"
      ],
      "metadata": {
        "id": "p8rNRnGduf4w"
      },
      "execution_count": null,
      "outputs": []
    }
  ],
  "metadata": {
    "accelerator": "TPU",
    "colab": {
      "collapsed_sections": [],
      "name": "PIFWIA_ABC.ipynb",
      "provenance": [],
      "include_colab_link": true
    },
    "kernelspec": {
      "display_name": "Python 3",
      "name": "python3"
    }
  },
  "nbformat": 4,
  "nbformat_minor": 0
}